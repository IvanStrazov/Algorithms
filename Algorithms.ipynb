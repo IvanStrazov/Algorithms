{
 "cells": [
  {
   "cell_type": "markdown",
   "metadata": {},
   "source": [
    "# Алгоритмы"
   ]
  },
  {
   "cell_type": "code",
   "execution_count": 12,
   "metadata": {},
   "outputs": [],
   "source": [
    "import time\n",
    "\n",
    "def timeit(f, *args):\n",
    "    start_time = time.time()\n",
    "    f(*args)\n",
    "    print(time.time() - start_time)"
   ]
  },
  {
   "cell_type": "markdown",
   "metadata": {},
   "source": [
    " "
   ]
  },
  {
   "cell_type": "markdown",
   "metadata": {},
   "source": [
    " "
   ]
  },
  {
   "cell_type": "markdown",
   "metadata": {},
   "source": [
    "# Бинарный поиск"
   ]
  },
  {
   "cell_type": "code",
   "execution_count": 3,
   "metadata": {},
   "outputs": [
    {
     "data": {
      "text/plain": [
       "array([21, 82,  6, 18, 94, 41, 63,  8, 67, 60, 33,  6, 92, 85, 70, 69, 28,\n",
       "       95, 16, 35])"
      ]
     },
     "execution_count": 3,
     "metadata": {},
     "output_type": "execute_result"
    }
   ],
   "source": [
    "import numpy as np\n",
    "array = np.random.randint(1, 100, 20)\n",
    "array"
   ]
  },
  {
   "cell_type": "code",
   "execution_count": 13,
   "metadata": {},
   "outputs": [
    {
     "data": {
      "text/plain": [
       "3"
      ]
     },
     "execution_count": 13,
     "metadata": {},
     "output_type": "execute_result"
    }
   ],
   "source": [
    "def binary_search(array, x):\n",
    "    '''\n",
    "    Находит индекс искомого элемента в массиве.\n",
    "    Если элемент не найден, возвращает -1.\n",
    "    '''\n",
    "    array.sort()\n",
    "    n1, n2 = 1, len(array)\n",
    "    \n",
    "    while n1 <= n2:\n",
    "        m = (n1 + n2) // 2\n",
    "        mid_point = array[m - 1]\n",
    "        \n",
    "        if x == mid_point:\n",
    "            return m\n",
    "        elif x > mid_point:\n",
    "            n1 = m + 1\n",
    "        else:\n",
    "            n2 = m - 1\n",
    "        \n",
    "    return -1\n",
    "\n",
    "binary_search(array, 25)"
   ]
  },
  {
   "cell_type": "code",
   "execution_count": 18,
   "metadata": {},
   "outputs": [
    {
     "name": "stdin",
     "output_type": "stream",
     "text": [
      " 1 4 2\n",
      " 1 4 3\n"
     ]
    },
    {
     "name": "stdout",
     "output_type": "stream",
     "text": [
      "4\n",
      "1\n",
      "2\n",
      "2 3\n",
      "1\n",
      "2\n",
      "-1 "
     ]
    }
   ],
   "source": [
    "def binary_search(array, x):\n",
    "    '''\n",
    "    Находит индекс искомого элемента в массиве.\n",
    "    Если элемент не найден, возвращает -1.\n",
    "    '''\n",
    "    array.sort()\n",
    "    n1, n2 = 1, len(array)\n",
    "    \n",
    "    while n1 <= n2:\n",
    "        m = (n1 + n2) // 2\n",
    "        print(m)\n",
    "        mid_point = array[m - 1]\n",
    "        \n",
    "        if x == mid_point:\n",
    "            return m\n",
    "        elif x > mid_point:\n",
    "            n1 = m + 1\n",
    "        else:\n",
    "            n2 = m - 1\n",
    "        \n",
    "    return -1\n",
    "\n",
    "array = list(map(int, input().split()[1:]))\n",
    "for b in map(int, input().split()[1:]):\n",
    "    print(b)\n",
    "    print(binary_search(array, b), end=' ')"
   ]
  },
  {
   "cell_type": "code",
   "execution_count": null,
   "metadata": {},
   "outputs": [],
   "source": [
    "from bisect import bisect_left"
   ]
  },
  {
   "cell_type": "markdown",
   "metadata": {},
   "source": [
    " "
   ]
  },
  {
   "cell_type": "markdown",
   "metadata": {},
   "source": [
    " "
   ]
  },
  {
   "cell_type": "markdown",
   "metadata": {},
   "source": [
    "# Число Фибоначчи"
   ]
  },
  {
   "cell_type": "markdown",
   "metadata": {},
   "source": [
    "#### Простой алгоритм"
   ]
  },
  {
   "cell_type": "code",
   "execution_count": 22,
   "metadata": {},
   "outputs": [
    {
     "data": {
      "text/plain": [
       "55"
      ]
     },
     "execution_count": 22,
     "metadata": {},
     "output_type": "execute_result"
    }
   ],
   "source": [
    "def fib(n):\n",
    "    if n in (0, 1):\n",
    "        return n\n",
    "    \n",
    "    x1, x2 = 0, 1\n",
    "    for i in range(n - 1):\n",
    "        x1, x2 = x2, x1 + x2\n",
    "    \n",
    "    return x2\n",
    "    \n",
    "fib(10)"
   ]
  },
  {
   "cell_type": "markdown",
   "metadata": {},
   "source": [
    "#### Рекурсивный алгоритм"
   ]
  },
  {
   "cell_type": "code",
   "execution_count": 14,
   "metadata": {},
   "outputs": [
    {
     "data": {
      "text/plain": [
       "55"
      ]
     },
     "execution_count": 14,
     "metadata": {},
     "output_type": "execute_result"
    }
   ],
   "source": [
    "def fib(n):\n",
    "    assert n >= 0\n",
    "    return n if n <= 1 else fib(n-1) + fib(n-2)\n",
    "    \n",
    "fib(10)"
   ]
  },
  {
   "cell_type": "markdown",
   "metadata": {},
   "source": [
    "#### Рекурсивный алгоритм с кэшем"
   ]
  },
  {
   "cell_type": "code",
   "execution_count": 23,
   "metadata": {},
   "outputs": [
    {
     "data": {
      "text/plain": [
       "55"
      ]
     },
     "execution_count": 23,
     "metadata": {},
     "output_type": "execute_result"
    }
   ],
   "source": [
    "def memo(f):\n",
    "    cache = {}\n",
    "    \n",
    "    def inner(n):\n",
    "        if n not in cache:\n",
    "            cache[n] = f(n)\n",
    "        return cache[n]\n",
    "    \n",
    "    return inner\n",
    "\n",
    "new_fib = memo(fib)\n",
    "new_fib(10)"
   ]
  },
  {
   "cell_type": "markdown",
   "metadata": {},
   "source": [
    "#### Быстрый алгоритм\n",
    "#### $F_n = \\frac{1}{\\sqrt{5}} ((\\frac{1+\\sqrt{5}}{2})^n - (\\frac{1-\\sqrt{5}}{2})^n)$"
   ]
  },
  {
   "cell_type": "code",
   "execution_count": 46,
   "metadata": {},
   "outputs": [
    {
     "data": {
      "text/plain": [
       "55"
      ]
     },
     "execution_count": 46,
     "metadata": {},
     "output_type": "execute_result"
    }
   ],
   "source": [
    "def fib(n):\n",
    "    return int((((1 + np.sqrt(5)) / 2) ** n - ((1 - np.sqrt(5)) / 2) ** n) / np.sqrt(5))\n",
    "\n",
    "fib(10)"
   ]
  },
  {
   "cell_type": "markdown",
   "metadata": {},
   "source": [
    "#### Остаток от деления n-го числа Фибоначчи на m."
   ]
  },
  {
   "cell_type": "code",
   "execution_count": 67,
   "metadata": {},
   "outputs": [
    {
     "data": {
      "text/plain": [
       "0"
      ]
     },
     "execution_count": 67,
     "metadata": {},
     "output_type": "execute_result"
    }
   ],
   "source": [
    "def fib_mod(n, m):\n",
    "    if n in (0, 1):\n",
    "        return n\n",
    "    \n",
    "    x1, x2 = 0, 1\n",
    "    period = False\n",
    "    for i in range(n - 1):\n",
    "        x1, x2 = x2, (x1 + x2) % m\n",
    "        \n",
    "        if x1 == 0 and x2 == 1:\n",
    "            period = i + 1\n",
    "            \n",
    "        if period:\n",
    "            x1, x2 = 0, 1\n",
    "            for i in range(n % period):\n",
    "                x1, x2 = x2, (x1 + x2) % m\n",
    "            return x1\n",
    "    \n",
    "    return x2\n",
    "    \n",
    "fib_mod(100, 5)"
   ]
  },
  {
   "cell_type": "markdown",
   "metadata": {},
   "source": [
    " "
   ]
  },
  {
   "cell_type": "markdown",
   "metadata": {},
   "source": [
    " "
   ]
  },
  {
   "cell_type": "markdown",
   "metadata": {},
   "source": [
    "# Наибольший общий делитель"
   ]
  },
  {
   "cell_type": "markdown",
   "metadata": {},
   "source": [
    "#### Простой алгоритм\n",
    "\n",
    "Сложность: $O(n)$"
   ]
  },
  {
   "cell_type": "code",
   "execution_count": 72,
   "metadata": {},
   "outputs": [
    {
     "data": {
      "text/plain": [
       "50"
      ]
     },
     "execution_count": 72,
     "metadata": {},
     "output_type": "execute_result"
    }
   ],
   "source": [
    "def gcd(a, b):\n",
    "    d = 1\n",
    "    for i in range(2, min([a, b]) + 1):\n",
    "        if a % i == 0 and b % i == 0:\n",
    "            d = i\n",
    "    return d\n",
    "\n",
    "gcd(150, 200)"
   ]
  },
  {
   "cell_type": "markdown",
   "metadata": {},
   "source": [
    "#### Алгоритм Евклида\n",
    "\n",
    "Сложность: $O(log_2n)$"
   ]
  },
  {
   "cell_type": "code",
   "execution_count": 25,
   "metadata": {},
   "outputs": [
    {
     "data": {
      "text/plain": [
       "50"
      ]
     },
     "execution_count": 25,
     "metadata": {},
     "output_type": "execute_result"
    }
   ],
   "source": [
    "def gcd(a, b):\n",
    "    assert a >= 0 and b >= 0\n",
    "    \n",
    "    if a == 0 or b == 0:\n",
    "        return max(a, b)\n",
    "    return gcd(b % a, a)\n",
    "    \n",
    "gcd(150, 200)"
   ]
  },
  {
   "cell_type": "markdown",
   "metadata": {},
   "source": [
    " "
   ]
  },
  {
   "cell_type": "markdown",
   "metadata": {},
   "source": [
    " "
   ]
  },
  {
   "cell_type": "markdown",
   "metadata": {},
   "source": [
    " "
   ]
  },
  {
   "cell_type": "markdown",
   "metadata": {},
   "source": [
    " "
   ]
  },
  {
   "cell_type": "markdown",
   "metadata": {},
   "source": [
    " "
   ]
  },
  {
   "cell_type": "markdown",
   "metadata": {},
   "source": [
    "# Жадные алгоритмы"
   ]
  },
  {
   "cell_type": "markdown",
   "metadata": {},
   "source": [
    "#### Покрыть отрезки точками"
   ]
  },
  {
   "cell_type": "code",
   "execution_count": 105,
   "metadata": {},
   "outputs": [
    {
     "name": "stdin",
     "output_type": "stream",
     "text": [
      " 3\n",
      " 1 3\n",
      " 2 5\n",
      " 3 6\n"
     ]
    },
    {
     "name": "stdout",
     "output_type": "stream",
     "text": [
      "1\n",
      "3\n"
     ]
    }
   ],
   "source": [
    "def points_for_cuts():\n",
    "    cuts = list()\n",
    "    \n",
    "    for i in range(int(input())):\n",
    "        cuts.append(list(map(int, input().split())))\n",
    "    \n",
    "    cuts.sort(key=lambda x: x[1])\n",
    "    \n",
    "    m = 0\n",
    "    points = list()\n",
    "    \n",
    "    while cuts:\n",
    "        m += 1\n",
    "        point = cuts[0][1]\n",
    "        points.append(point)\n",
    "        cuts = list(filter(lambda x: x[0] > point, cuts))\n",
    "    \n",
    "    print(m)\n",
    "    print(*points)\n",
    "    \n",
    "    \n",
    "points_for_cuts()"
   ]
  },
  {
   "cell_type": "markdown",
   "metadata": {},
   "source": [
    "#### Непрерывный рюкзак"
   ]
  },
  {
   "cell_type": "code",
   "execution_count": 83,
   "metadata": {},
   "outputs": [
    {
     "data": {
      "text/plain": [
       "180.0"
      ]
     },
     "execution_count": 83,
     "metadata": {},
     "output_type": "execute_result"
    }
   ],
   "source": [
    "def continuous_backpack():\n",
    "    #n, W = map(int, input().split())\n",
    "    #c_list, w_list, kpd_list = list(), list(), list()\n",
    "    W = 50\n",
    "    c_list = [60, 100, 120]\n",
    "    w_list = [20, 50, 30]\n",
    "    kpd_list = [[0, 3], [1, 2], [2, 4]]\n",
    "    \n",
    "\n",
    "    #for i in range(n):\n",
    "    #    c, w = map(int, input().split())\n",
    "    #    c_list.append(c)\n",
    "    #    w_list.append(w)\n",
    "    #    kpd_list.append([i, c / w])\n",
    "    \n",
    "    kpd_list = sorted(kpd_list, key=lambda x: x[1], reverse=True)\n",
    "    C = 0\n",
    "    \n",
    "    for i in kpd_list:\n",
    "        if W > w_list[i[0]]:\n",
    "            C += c_list[i[0]]\n",
    "            W -= w_list[i[0]]\n",
    "        else:\n",
    "            C += c_list[i[0]] * W / w_list[i[0]]\n",
    "            break\n",
    "\n",
    "    return C\n",
    "\n",
    "continuous_backpack()"
   ]
  },
  {
   "cell_type": "markdown",
   "metadata": {},
   "source": [
    "#### Различные слагаемые"
   ]
  },
  {
   "cell_type": "code",
   "execution_count": 51,
   "metadata": {},
   "outputs": [
    {
     "name": "stdin",
     "output_type": "stream",
     "text": [
      " 60\n"
     ]
    },
    {
     "name": "stdout",
     "output_type": "stream",
     "text": [
      "10\n",
      "1 2 3 4 5 6 7 8 9 15\n"
     ]
    }
   ],
   "source": [
    "n = int(input())\n",
    "\n",
    "def k_sum(n):\n",
    "    '''\n",
    "    По данному числу n находит максимальное число k,\n",
    "    для которого n можно представить как сумму k различных натуральных слагаемых. \n",
    "    Выводит в первой строке число k, во второй — k слагаемых.\n",
    "    '''\n",
    "    d = lambda x: (9 + 8 * n - 8 * x) ** (1 / 2)\n",
    "\n",
    "    x = 1\n",
    "    while d(x) % 2 != 1:\n",
    "        x += 1\n",
    "    k = int((-3 + d(x)) / 2 + 1)\n",
    "    print(k)\n",
    "    print(*[i for i in range(1, k)], k + x - 1)\n",
    "            \n",
    "            \n",
    "k_sum(n)"
   ]
  },
  {
   "cell_type": "markdown",
   "metadata": {},
   "source": [
    " "
   ]
  },
  {
   "cell_type": "markdown",
   "metadata": {},
   "source": [
    " "
   ]
  },
  {
   "cell_type": "markdown",
   "metadata": {},
   "source": [
    "## Кодирование Хаффмана"
   ]
  },
  {
   "cell_type": "markdown",
   "metadata": {},
   "source": [
    "#### Очередь с приоритетом на основе массива"
   ]
  },
  {
   "cell_type": "code",
   "execution_count": 41,
   "metadata": {},
   "outputs": [],
   "source": [
    "class Turn(list):\n",
    "    def __init__(self, array):\n",
    "        self.array = array\n",
    "        \n",
    "    def insert(self, x, priority):\n",
    "        self.array.append([x, priority])\n",
    "        \n",
    "    def extract_min(self):\n",
    "        min_point = min(self.array, key=lambda x: x[1])\n",
    "        self.array.remove(min_point)\n",
    "        return min_point"
   ]
  },
  {
   "cell_type": "markdown",
   "metadata": {},
   "source": [
    "#### Собственный Counter (т.к. никаких импортов)"
   ]
  },
  {
   "cell_type": "code",
   "execution_count": 86,
   "metadata": {},
   "outputs": [],
   "source": [
    "class Counter():\n",
    "    def __init__(self, x):\n",
    "        self.dct = dict()\n",
    "        \n",
    "        for i in x:\n",
    "            if i in self.dct:\n",
    "                self.dct[i] += 1\n",
    "            else:\n",
    "                self.dct[i] = 1\n",
    "        \n",
    "    def result(self):\n",
    "        return self.dct"
   ]
  },
  {
   "cell_type": "markdown",
   "metadata": {},
   "source": [
    "#### Бинарное дерево, заполняющее кодировки символов"
   ]
  },
  {
   "cell_type": "code",
   "execution_count": 87,
   "metadata": {},
   "outputs": [],
   "source": [
    "class Tree():\n",
    "    def __init__(self, string):\n",
    "        self.point_names = dict()\n",
    "        \n",
    "        for i in string:\n",
    "            if i not in self.point_names:\n",
    "                self.point_names[i] = ''\n",
    "                \n",
    "    def add_lit(self, point, lit):\n",
    "        self.point_names[point] = lit + self.point_names[point]"
   ]
  },
  {
   "cell_type": "markdown",
   "metadata": {},
   "source": [
    "#### Алгоритм Хаффмана"
   ]
  },
  {
   "cell_type": "code",
   "execution_count": 130,
   "metadata": {},
   "outputs": [
    {
     "name": "stdin",
     "output_type": "stream",
     "text": [
      " abacabad\n"
     ]
    },
    {
     "name": "stdout",
     "output_type": "stream",
     "text": [
      "4 14\n",
      "a: 0\n",
      "b: 10\n",
      "c: 110\n",
      "d: 111\n",
      "01001100100111"
     ]
    }
   ],
   "source": [
    "def huffman(string):\n",
    "    \n",
    "    # Преобразование строки в очередь с приоритетами\n",
    "    prior_turn = Turn(list(Counter(string).result().items()))\n",
    "    \n",
    "    # Создание дерева с пустыми именами\n",
    "    tree = Tree(string)\n",
    "    \n",
    "    # Задание переменной затрат памяти\n",
    "    term_memory = 0\n",
    "    \n",
    "    if len(prior_turn.array) == 1:\n",
    "        term_memory += len(string)\n",
    "        print(1, term_memory)\n",
    "        print(string[0], ': 0', sep='')\n",
    "        print('0' * term_memory)\n",
    "    else:\n",
    "        while len(prior_turn.array) > 1:\n",
    "            i, fi = prior_turn.extract_min()\n",
    "            j, fj = prior_turn.extract_min()\n",
    "            prior_turn.insert(i + j, fi + fj)\n",
    "            term_memory += fi + fj\n",
    "\n",
    "            for _ in i:\n",
    "                tree.add_lit(_, '0')\n",
    "            for _ in j:\n",
    "                tree.add_lit(_, '1')\n",
    "        \n",
    "        print(len(tree.point_names), term_memory)\n",
    "        for i in tree.point_names.items():\n",
    "            print(i[0], ': ', i[1], sep='')\n",
    "\n",
    "        for i in string:\n",
    "            print(tree.point_names[i], end='')\n",
    "    \n",
    "\n",
    "string = input()\n",
    "huffman(string)"
   ]
  },
  {
   "cell_type": "markdown",
   "metadata": {},
   "source": [
    " "
   ]
  },
  {
   "cell_type": "markdown",
   "metadata": {},
   "source": [
    " "
   ]
  },
  {
   "cell_type": "markdown",
   "metadata": {},
   "source": [
    "## Декодирование Хаффмана"
   ]
  },
  {
   "cell_type": "code",
   "execution_count": 128,
   "metadata": {},
   "outputs": [
    {
     "name": "stdin",
     "output_type": "stream",
     "text": [
      " 4 14\n",
      " a: 0\n",
      " b: 10\n",
      " c: 110\n",
      " d: 111\n",
      " 01001100100111\n"
     ]
    },
    {
     "name": "stdout",
     "output_type": "stream",
     "text": [
      "abacabad"
     ]
    }
   ],
   "source": [
    "def huffman_decode(point_names, string):\n",
    "    \n",
    "    # Создание пустого бинарного дерева\n",
    "    tree = dict()\n",
    "    \n",
    "    # Заполнение дерева через проход по веткам и листам\n",
    "    # и создание новых\n",
    "    for i in point_names:\n",
    "        term_tree = tree\n",
    "        l = len(i[1]) - 1\n",
    "        for ind, j in enumerate(i[1]):\n",
    "            if ind == l:\n",
    "                term_tree[j] = i[0]\n",
    "            elif j not in term_tree:\n",
    "                term_tree[j] = {}\n",
    "                term_tree = term_tree[j]\n",
    "            else:\n",
    "                term_tree = term_tree[j]\n",
    "\n",
    "\n",
    "    # Декодирование проходом по бинарному дереву\n",
    "    term_tree = tree.copy()\n",
    "    for i in string:\n",
    "        if type(term_tree[i]) == dict:\n",
    "            term_tree = term_tree[i]\n",
    "        else:\n",
    "            print(term_tree[i], end='')\n",
    "            term_tree = tree.copy()\n",
    "\n",
    "\n",
    "k, term_memory = map(int, input().split())\n",
    "\n",
    "point_names = list()\n",
    "for i in range(k):\n",
    "    point, name = input().split(': ')\n",
    "    point_names.append([point, name])\n",
    "    \n",
    "string = input()\n",
    "\n",
    "huffman_decode(point_names, string)"
   ]
  },
  {
   "cell_type": "markdown",
   "metadata": {},
   "source": [
    " "
   ]
  },
  {
   "cell_type": "markdown",
   "metadata": {},
   "source": [
    " "
   ]
  },
  {
   "cell_type": "markdown",
   "metadata": {},
   "source": [
    "## Куча"
   ]
  },
  {
   "cell_type": "markdown",
   "metadata": {},
   "source": [
    "Готовый модуль heapq с бинарной мин кучей\n",
    "\n",
    "https://docs.python.org/3/library/heapq.html"
   ]
  },
  {
   "cell_type": "code",
   "execution_count": 258,
   "metadata": {},
   "outputs": [
    {
     "name": "stdout",
     "output_type": "stream",
     "text": [
      "18\n",
      "18\n",
      "15\n",
      "12\n",
      "12\n",
      "3\n",
      "2\n",
      "2\n",
      "array('I')\n"
     ]
    }
   ],
   "source": [
    "from array import array\n",
    "\n",
    "class Heap():\n",
    "    '''\n",
    "    Очередь с приоритетами на основе двоичного макс дерева\n",
    "    '''\n",
    "    \n",
    "    def __init__(self):\n",
    "        self.array = array('I')\n",
    "        self.length = 0\n",
    "        \n",
    "    def sift_up(self, i):\n",
    "        j = (i - 1) // 2\n",
    "        if self.array[i] > self.array[j]:\n",
    "            self.array[i], self.array[j] = self.array[j], self.array[i]\n",
    "            \n",
    "            return j\n",
    "        else:\n",
    "            return False\n",
    "        \n",
    "    def sift_down(self, i):\n",
    "        k = 2 * i + 1\n",
    "        t = k + 1\n",
    "        \n",
    "        try:\n",
    "            if self.array[i] < max(self.array[k], self.array[t]):\n",
    "                if self.array[k] <= self.array[t]:\n",
    "                    self.array[i], self.array[t] = self.array[t], self.array[i]\n",
    "                    return t\n",
    "                else:\n",
    "                    self.array[i], self.array[k] = self.array[k], self.array[i]\n",
    "                    return k\n",
    "            else:\n",
    "                return False\n",
    "        except IndexError:\n",
    "            pass\n",
    "            \n",
    "        try:\n",
    "            if self.array[i] < self.array[k]:\n",
    "                self.array[i], self.array[k] = self.array[k], self.array[i]\n",
    "                return k\n",
    "            else:\n",
    "                return False\n",
    "        except IndexError:\n",
    "            pass\n",
    "        \n",
    "        return False\n",
    "        \n",
    "    def insert(self, p):\n",
    "        self.array.append(p)\n",
    "        self.length += 1\n",
    "        i = self.length - 1\n",
    "        while i:\n",
    "            i = self.sift_up(i)\n",
    "        \n",
    "        \n",
    "    def extract_max(self):\n",
    "        if self.length >= 2:\n",
    "            print(self.array[0])\n",
    "            self.array[0] = self.array.pop(-1)\n",
    "            self.length -= 1\n",
    "            i = self.sift_down(0)\n",
    "            while i:\n",
    "                i = self.sift_down(i)\n",
    "        elif self.length == 1:\n",
    "            print(self.array.pop(0))\n",
    "            self.length -= 1\n",
    "            \n",
    "            \n",
    "    def string_command(self):\n",
    "        inp = input()\n",
    "        if inp == 'ExtractMax':\n",
    "            self.extract_max()\n",
    "        else:\n",
    "            self.insert(int(inp.split()[1]))\n",
    "        \n",
    "        \n",
    "    \n",
    "#heap = Heap()\n",
    "\n",
    "#for i in range(int(input())):\n",
    "#    heap.string_command()\n",
    "\n",
    "\n",
    "heap = Heap()\n",
    "\n",
    "heap.insert(2)\n",
    "heap.insert(3)\n",
    "heap.insert(18)\n",
    "heap.insert(15)\n",
    "heap.insert(18)\n",
    "heap.insert(12)\n",
    "heap.insert(12)\n",
    "heap.insert(2)\n",
    "heap.extract_max()\n",
    "heap.extract_max()\n",
    "heap.extract_max()\n",
    "heap.extract_max()\n",
    "heap.extract_max()\n",
    "heap.extract_max()\n",
    "heap.extract_max()\n",
    "heap.extract_max()\n",
    "heap.extract_max()\n",
    "heap.extract_max()\n",
    "heap.extract_max()\n",
    "heap.extract_max()\n",
    "heap.extract_max()"
   ]
  },
  {
   "cell_type": "markdown",
   "metadata": {},
   "source": [
    " "
   ]
  },
  {
   "cell_type": "markdown",
   "metadata": {},
   "source": [
    " "
   ]
  },
  {
   "cell_type": "markdown",
   "metadata": {},
   "source": [
    " "
   ]
  },
  {
   "cell_type": "markdown",
   "metadata": {},
   "source": [
    " "
   ]
  },
  {
   "cell_type": "markdown",
   "metadata": {},
   "source": [
    " "
   ]
  },
  {
   "cell_type": "markdown",
   "metadata": {},
   "source": [
    "# Сортировки"
   ]
  },
  {
   "cell_type": "code",
   "execution_count": 26,
   "metadata": {},
   "outputs": [],
   "source": [
    "import numpy as np"
   ]
  },
  {
   "cell_type": "markdown",
   "metadata": {},
   "source": [
    "## 1. Сортировка вставками: $O(n^2)$"
   ]
  },
  {
   "cell_type": "code",
   "execution_count": 49,
   "metadata": {},
   "outputs": [
    {
     "data": {
      "text/plain": [
       "[3, 11, 11, 33, 35, 59, 78, 88, 95, 97]"
      ]
     },
     "execution_count": 49,
     "metadata": {},
     "output_type": "execute_result"
    }
   ],
   "source": [
    "def InsertionSort(A):\n",
    "    '''\n",
    "    Сортировка вставками\n",
    "    '''\n",
    "    l = len(A)\n",
    "    A = list(A)\n",
    "    \n",
    "    if l in (0, 1):\n",
    "        return A\n",
    "    \n",
    "    for i in range(2, l + 1):\n",
    "        j = i - 1\n",
    "        while j > 0 and A[j] < A[j - 1]:\n",
    "            A[j], A[j - 1] = A[j - 1], A[j]\n",
    "            j -= 1\n",
    "    \n",
    "    \n",
    "    return A\n",
    "\n",
    "\n",
    "array = np.random.randint(1, 100, 10)\n",
    "InsertionSort(array)"
   ]
  },
  {
   "cell_type": "markdown",
   "metadata": {},
   "source": [
    " "
   ]
  },
  {
   "cell_type": "markdown",
   "metadata": {},
   "source": [
    " "
   ]
  },
  {
   "cell_type": "markdown",
   "metadata": {},
   "source": [
    "## 2. Сортировка слиянием: $O(n \\log n)$"
   ]
  },
  {
   "cell_type": "code",
   "execution_count": 45,
   "metadata": {},
   "outputs": [
    {
     "data": {
      "text/plain": [
       "[7, 17, 25, 47, 57, 60, 76, 80, 89, 92]"
      ]
     },
     "execution_count": 45,
     "metadata": {},
     "output_type": "execute_result"
    }
   ],
   "source": [
    "def MergeSort(A):\n",
    "    '''\n",
    "    Сортировка слиянием\n",
    "    '''\n",
    "    A = list(A)\n",
    "    n = len(A)\n",
    "    \n",
    "    def Merge(A1, A2):\n",
    "        A_merge = []\n",
    "        \n",
    "        while A1 or A2:\n",
    "            try:\n",
    "                if A1[0] <= A2[0]:\n",
    "                    A_merge.append(A1.pop(0))\n",
    "                else:\n",
    "                    A_merge.append(A2.pop(0))\n",
    "                continue\n",
    "            except IndexError:\n",
    "                pass\n",
    "            \n",
    "            try:\n",
    "                A_merge.append(A1.pop(0))\n",
    "                continue\n",
    "            except IndexError:\n",
    "                pass\n",
    "            \n",
    "            try:\n",
    "                A_merge.append(A2.pop(0))\n",
    "                continue\n",
    "            except IndexError:\n",
    "                pass\n",
    "            \n",
    "        return A_merge\n",
    "    \n",
    "    def Recursive(A, l, r):\n",
    "        if l < r:\n",
    "            m = (l + r) // 2\n",
    "            return Merge(Recursive(A, l, m), Recursive(A, m + 1, r))\n",
    "        else:\n",
    "            return A[l:l+1]\n",
    "    \n",
    "    \n",
    "    return Recursive(A, 0, n)\n",
    "\n",
    "\n",
    "array = np.random.randint(1, 100, 10)\n",
    "MergeSort(array)"
   ]
  },
  {
   "cell_type": "markdown",
   "metadata": {},
   "source": [
    " "
   ]
  },
  {
   "cell_type": "markdown",
   "metadata": {},
   "source": [
    " "
   ]
  },
  {
   "cell_type": "markdown",
   "metadata": {},
   "source": [
    "## Число перестановок"
   ]
  },
  {
   "cell_type": "code",
   "execution_count": 90,
   "metadata": {},
   "outputs": [
    {
     "name": "stdout",
     "output_type": "stream",
     "text": [
      "[22 41  2 30 84 79 46 26 69 68]\n"
     ]
    },
    {
     "data": {
      "text/plain": [
       "16"
      ]
     },
     "execution_count": 90,
     "metadata": {},
     "output_type": "execute_result"
    }
   ],
   "source": [
    "def PermutationAmount(A):\n",
    "    A = list(A)\n",
    "    n = len(A)\n",
    "    \n",
    "    amount = 0\n",
    "    \n",
    "    def Merge(A1, A2):\n",
    "        nonlocal amount\n",
    "        \n",
    "        A_merge = []\n",
    "        \n",
    "        while A1 or A2:\n",
    "            try:\n",
    "                if A1[0] <= A2[0]:\n",
    "                    A_merge.append(A1.pop(0))\n",
    "                else:\n",
    "                    A_merge.append(A2.pop(0))\n",
    "                    amount += len(A1)\n",
    "                    #print(amount)\n",
    "                continue\n",
    "            except IndexError:\n",
    "                pass\n",
    "            \n",
    "            try:\n",
    "                A_merge.append(A1.pop(0))\n",
    "                continue\n",
    "            except IndexError:\n",
    "                pass\n",
    "            \n",
    "            try:\n",
    "                A_merge.append(A2.pop(0))\n",
    "                continue\n",
    "            except IndexError:\n",
    "                pass\n",
    "            \n",
    "        return A_merge\n",
    "    \n",
    "    def Recursive(A, l, r):\n",
    "        if l < r:\n",
    "            m = (l + r) // 2\n",
    "            return Merge(Recursive(A, l, m), Recursive(A, m + 1, r))\n",
    "        else:\n",
    "            return A[l:l+1]\n",
    "        \n",
    "    Recursive(A, 0, n)\n",
    "    return amount\n",
    "\n",
    "\n",
    "array = np.random.randint(1, 100, 10, dtype=np.int64)\n",
    "print(array)\n",
    "PermutationAmount(array)"
   ]
  },
  {
   "cell_type": "markdown",
   "metadata": {},
   "source": [
    " "
   ]
  },
  {
   "cell_type": "markdown",
   "metadata": {},
   "source": [
    " "
   ]
  },
  {
   "cell_type": "markdown",
   "metadata": {},
   "source": [
    "## 3. Быстрая сортировка: $O(n \\log n) - O(n^2)$"
   ]
  },
  {
   "cell_type": "code",
   "execution_count": 69,
   "metadata": {},
   "outputs": [
    {
     "name": "stdout",
     "output_type": "stream",
     "text": [
      "[49, 75, 49, 38, 60, 47, 62, 6, 80, 55]\n"
     ]
    },
    {
     "data": {
      "text/plain": [
       "[6, 38, 47, 49, 49, 55, 60, 62, 75, 80]"
      ]
     },
     "execution_count": 69,
     "metadata": {},
     "output_type": "execute_result"
    }
   ],
   "source": [
    "def QuickSort(A):\n",
    "    '''\n",
    "    Быстрая сортировка\n",
    "    '''\n",
    "    A = list(A)\n",
    "    \n",
    "    def Partition(l, r):\n",
    "        nonlocal A\n",
    "        x = A[l]\n",
    "        j = l\n",
    "        \n",
    "        for i in range(l + 1, r + 1):\n",
    "            if A[i] <= x:\n",
    "                j += 1\n",
    "                A[i], A[j] = A[j], A[i]\n",
    "                \n",
    "        A[l], A[j] = A[j], A[l]\n",
    "        return j\n",
    "        \n",
    "    def Recursive(A, l, r):\n",
    "        if l <= r:\n",
    "            m = Partition(l, r)\n",
    "            Recursive(A, l, m - 1), Recursive(A, m + 1, r)\n",
    "            \n",
    "    Recursive(A, 0, len(A) - 1)\n",
    "    return A\n",
    "\n",
    "\n",
    "array = np.random.randint(1, 100, 10, dtype=np.int64).tolist()\n",
    "print(array)\n",
    "QuickSort(array)"
   ]
  },
  {
   "cell_type": "markdown",
   "metadata": {},
   "source": [
    " "
   ]
  },
  {
   "cell_type": "markdown",
   "metadata": {},
   "source": [
    " "
   ]
  },
  {
   "cell_type": "markdown",
   "metadata": {},
   "source": [
    "## Количество отрезков включающих точки"
   ]
  },
  {
   "cell_type": "code",
   "execution_count": 296,
   "metadata": {},
   "outputs": [
    {
     "name": "stdout",
     "output_type": "stream",
     "text": [
      "0 0 1 2 2 3 2 2 1 0 0 0 0 1 1 0 "
     ]
    }
   ],
   "source": [
    "class Cuts():\n",
    "    '''\n",
    "    При инициализации создаётся 2 массива отсортированных по 1/2 элементу\n",
    "    \n",
    "    BinarySearchStart находит число начавшихся отрезков\n",
    "    BinarySearchEnd находит число закончившихся отрезков\n",
    "    '''\n",
    "    def __init__(self, array):\n",
    "        self.starts = sorted(array)\n",
    "        self.ends = sorted(array, key=lambda x: [x[1], x[0]])\n",
    "        \n",
    "    def BinarySearchStart(self, x):\n",
    "        n1, n2 = 1, len(self.starts)\n",
    "        \n",
    "        while n1 < n2:\n",
    "            m = (n1 + n2) // 2\n",
    "            mid_point = self.starts[m - 1][0]\n",
    "            if mid_point <= x:\n",
    "                n1 = m + 1\n",
    "            else:\n",
    "                n2 = m - 1\n",
    "         \n",
    "        if n1 == n2:\n",
    "            mid_point = self.starts[n1 - 1][0]\n",
    "            if mid_point <= x:\n",
    "                return n1\n",
    "            else:\n",
    "                return n1 - 1\n",
    "        else:\n",
    "            return n2\n",
    "         \n",
    "    def BinarySearchEnd(self, x):\n",
    "        n1, n2 = 1, len(self.ends)\n",
    "        \n",
    "        while n1 < n2:\n",
    "            m = (n1 + n2) // 2\n",
    "            mid_point = self.ends[m - 1][1]\n",
    "            if mid_point < x:\n",
    "                n1 = m + 1\n",
    "            else:\n",
    "                n2 = m - 1\n",
    "         \n",
    "        if n1 == n2:\n",
    "            mid_point = self.ends[n1 - 1][1]\n",
    "            if mid_point < x:\n",
    "                return n1\n",
    "            else:\n",
    "                return n1 - 1\n",
    "        else:\n",
    "            return n2\n",
    "\n",
    "\n",
    "array = [[1, 2], [3, 4], [4, 5], [2, 6], [6, 7], [12, 13]]\n",
    "points = [i for i in range(-1, 15)]\n",
    "cuts = Cuts(array)\n",
    "for i in points:\n",
    "    print(cuts.BinarySearchStart(i) - cuts.BinarySearchEnd(i), end=' ')"
   ]
  },
  {
   "cell_type": "markdown",
   "metadata": {},
   "source": [
    " "
   ]
  },
  {
   "cell_type": "markdown",
   "metadata": {},
   "source": [
    " "
   ]
  },
  {
   "cell_type": "markdown",
   "metadata": {},
   "source": [
    "## Порядковая статистика"
   ]
  },
  {
   "cell_type": "code",
   "execution_count": 1,
   "metadata": {},
   "outputs": [
    {
     "name": "stdout",
     "output_type": "stream",
     "text": [
      "[2, 4, 6, 7, 9]\n"
     ]
    }
   ],
   "source": [
    "import numpy as np\n",
    "\n",
    "def OrderStat(A, k):\n",
    "    '''\n",
    "    Возвращает k-ый порядковый элемент неубывающего массива\n",
    "    '''\n",
    "    \n",
    "    n = len(A)\n",
    "    assert 1 <= k <= n, 'k error'\n",
    "    \n",
    "    k -= 1\n",
    "    \n",
    "    def Partition(l, r, x):\n",
    "        nonlocal A\n",
    "        m1 = l\n",
    "        m2 = l + 1\n",
    "        \n",
    "        for i in range(l + 1, r + 1):\n",
    "            if A[i] < x:\n",
    "                m1 += 1\n",
    "                m2 += 1\n",
    "                A[i], A[m1] = A[m1], A[i]\n",
    "            elif A[i] == x:\n",
    "                m2 += 1\n",
    "                A[i], A[m2] = A[m2], A[i]\n",
    "                \n",
    "        return m1, m2\n",
    "        \n",
    "    def RandomSelect(l, r):\n",
    "        nonlocal A, k\n",
    "        \n",
    "        if l >= r:\n",
    "            return A[l]\n",
    "        \n",
    "        x = A[l]\n",
    "        m1, m2 = Partition(l, r, x)\n",
    "        print(m1, m2)\n",
    "        \n",
    "        if k <= m1:\n",
    "            return RandomSelect(l, m1)\n",
    "        elif k <= m2:\n",
    "            return x\n",
    "        else:\n",
    "            return RandomSelect(m2 + 1, r)\n",
    "        \n",
    "    return RandomSelect(0, n - 1)\n",
    "        \n",
    "\n",
    "#array = [i for i in range(1, 11)]\n",
    "array = np.random.randint(1, 10, 5).tolist()\n",
    "print(sorted(array))\n",
    "#print(OrderStat(array, 1))\n",
    "#print(OrderStat(array, 2))\n",
    "#print(OrderStat(array, 3))\n",
    "#print(OrderStat(array, 4))\n",
    "#print(OrderStat(array, 5))"
   ]
  },
  {
   "cell_type": "markdown",
   "metadata": {},
   "source": [
    " "
   ]
  },
  {
   "cell_type": "markdown",
   "metadata": {},
   "source": [
    " "
   ]
  },
  {
   "cell_type": "markdown",
   "metadata": {},
   "source": [
    "## 4. Сортировка кучей: $O(n \\log n)$"
   ]
  },
  {
   "cell_type": "code",
   "execution_count": 23,
   "metadata": {},
   "outputs": [
    {
     "data": {
      "text/plain": [
       "[1, 1, 1, 2, 2, 3, 5, 6, 7, 9]"
      ]
     },
     "execution_count": 23,
     "metadata": {},
     "output_type": "execute_result"
    }
   ],
   "source": [
    "def HeapSort(A):\n",
    "    '''\n",
    "    Сортировка кучей\n",
    "    '''\n",
    "    assert type(A) == list\n",
    "    \n",
    "    import heapq\n",
    "    \n",
    "    heapq.heapify(A)\n",
    "    return heapq.nsmallest(len(A), A)\n",
    "    \n",
    "\n",
    "array = np.random.randint(1, 10, 10).tolist()\n",
    "HeapSort(array)"
   ]
  },
  {
   "cell_type": "code",
   "execution_count": 30,
   "metadata": {},
   "outputs": [
    {
     "name": "stdout",
     "output_type": "stream",
     "text": [
      "4.822922468185425\n",
      "6.8817925453186035\n",
      "24.31643509864807\n"
     ]
    }
   ],
   "source": [
    "array = np.random.randint(1, int(10e5), int(10e6)).tolist()\n",
    "timeit(sorted, array)\n",
    "timeit(HeapSort, array)"
   ]
  },
  {
   "cell_type": "markdown",
   "metadata": {},
   "source": [
    " "
   ]
  },
  {
   "cell_type": "markdown",
   "metadata": {},
   "source": [
    " "
   ]
  },
  {
   "cell_type": "markdown",
   "metadata": {},
   "source": [
    "## 5. Сортировка подсчётом"
   ]
  },
  {
   "cell_type": "code",
   "execution_count": 67,
   "metadata": {},
   "outputs": [
    {
     "name": "stdout",
     "output_type": "stream",
     "text": [
      "[9, 9, 3, 7, 2, 6, 6, 7, 8, 9]\n"
     ]
    },
    {
     "data": {
      "text/plain": [
       "[2, 3, 6, 6, 7, 7, 8, 9, 9, 9]"
      ]
     },
     "execution_count": 67,
     "metadata": {},
     "output_type": "execute_result"
    }
   ],
   "source": [
    "def CountSort(A):\n",
    "    '''\n",
    "    Сортировка подсчётом\n",
    "    '''\n",
    "    from collections import Counter\n",
    "    \n",
    "    A = Counter(A)\n",
    "    A_sorted = []\n",
    "    \n",
    "    for i in sorted(A.keys()):\n",
    "        A_sorted += [i] * A[i]\n",
    "    \n",
    "    return A_sorted\n",
    "    \n",
    "array = np.random.randint(1, 10, 10).tolist()\n",
    "print(array)\n",
    "CountSort(array)"
   ]
  },
  {
   "cell_type": "code",
   "execution_count": null,
   "metadata": {},
   "outputs": [],
   "source": []
  },
  {
   "cell_type": "code",
   "execution_count": null,
   "metadata": {},
   "outputs": [],
   "source": []
  },
  {
   "cell_type": "code",
   "execution_count": 79,
   "metadata": {},
   "outputs": [
    {
     "data": {
      "text/plain": [
       "[[1, 2, 0],\n",
       " [2, 3, 0],\n",
       " [2, 2, 1],\n",
       " [5, 4, 1],\n",
       " [3, 2, 1],\n",
       " [5, 4, 2],\n",
       " [9, 3, 2],\n",
       " [5, 2, 1],\n",
       " [6, 4, 3]]"
      ]
     },
     "execution_count": 79,
     "metadata": {},
     "output_type": "execute_result"
    }
   ],
   "source": [
    "from math import log\n",
    "\n",
    "soot = [[2, 2, 1], \n",
    "        [5, 4, 1], \n",
    "        [1, 2, 0], \n",
    "        [3, 2, 1], \n",
    "        [5, 2, 1], \n",
    "        [5, 4, 2], \n",
    "        [6, 4, 3], \n",
    "        [9, 3, 2], \n",
    "        [2, 3, 0]]\n",
    "\n",
    "\n",
    "def comp(x):\n",
    "    n = int(10e100)\n",
    "    ab = log(x[0], x[1])\n",
    "    d = x[2]\n",
    "    \n",
    "    if d > ab:\n",
    "        return n ** x[2]\n",
    "    elif d == ab:\n",
    "        return n ** x[2] * log(n)\n",
    "    else:\n",
    "        return n ** ab\n",
    "        \n",
    "          \n",
    "sorted(soot, key=comp)"
   ]
  },
  {
   "cell_type": "markdown",
   "metadata": {},
   "source": [
    " "
   ]
  },
  {
   "cell_type": "markdown",
   "metadata": {},
   "source": [
    " "
   ]
  },
  {
   "cell_type": "markdown",
   "metadata": {},
   "source": [
    " "
   ]
  },
  {
   "cell_type": "markdown",
   "metadata": {},
   "source": [
    " "
   ]
  },
  {
   "cell_type": "markdown",
   "metadata": {},
   "source": [
    " "
   ]
  },
  {
   "cell_type": "markdown",
   "metadata": {},
   "source": [
    "# Динамическое программирование"
   ]
  },
  {
   "cell_type": "markdown",
   "metadata": {},
   "source": [
    "## Числа Фибоначчи"
   ]
  },
  {
   "cell_type": "code",
   "execution_count": 134,
   "metadata": {},
   "outputs": [
    {
     "name": "stdout",
     "output_type": "stream",
     "text": [
      "55\n"
     ]
    }
   ],
   "source": [
    "def FibTD(n):\n",
    "    F = [-1 for _ in range(n + 1)]\n",
    "\n",
    "    def Recursive(n):\n",
    "        if F[n] == -1:\n",
    "            if n <= 1:\n",
    "                F[n] = n\n",
    "            else:\n",
    "                F[n] = FibTD(n - 1) + FibTD(n - 2)\n",
    "        return F[n]\n",
    "    \n",
    "    return Recursive(n)\n",
    "\n",
    "\n",
    "print(FibTD(10))"
   ]
  },
  {
   "cell_type": "markdown",
   "metadata": {},
   "source": [
    " "
   ]
  },
  {
   "cell_type": "markdown",
   "metadata": {},
   "source": [
    " "
   ]
  },
  {
   "cell_type": "markdown",
   "metadata": {},
   "source": [
    "## Наибольшая возрастающая подпоследовательность"
   ]
  },
  {
   "cell_type": "markdown",
   "metadata": {},
   "source": [
    "#### Сверху вниз: $O(n^2)$"
   ]
  },
  {
   "cell_type": "code",
   "execution_count": 111,
   "metadata": {},
   "outputs": [
    {
     "name": "stdout",
     "output_type": "stream",
     "text": [
      "5 9 3 6 8 6 6 8 6 9\n",
      "5 6 8 9\n"
     ]
    }
   ],
   "source": [
    "def LISBottomUp(A):\n",
    "    n = len(A)\n",
    "    D = [1 for _ in range(n)]\n",
    "    prev = [-1 for _ in range(n)]\n",
    "    \n",
    "    def FindMax(ind):\n",
    "        nonlocal D\n",
    "        \n",
    "        for i in range(ind):\n",
    "            if A[i] < A[ind] and D[i] >= D[ind]:\n",
    "                D[ind], prev[ind] = D[i] + 1, i\n",
    "    \n",
    "    for i in range(1, n):\n",
    "        FindMax(i)\n",
    "        \n",
    "    x = max(D)\n",
    "    i = D.index(x)\n",
    "    L = [0 for _ in range(x)]\n",
    "    x -= 1\n",
    "    \n",
    "    \n",
    "    while i + 1:\n",
    "        L[x], i = A[i], prev[i]\n",
    "        x -= 1\n",
    "    \n",
    "    return L\n",
    "    \n",
    "\n",
    "\n",
    "\n",
    "array = np.random.randint(1, 10, 10).tolist()\n",
    "print(*array)\n",
    "print(*LISBottomUp(array))"
   ]
  },
  {
   "cell_type": "code",
   "execution_count": 121,
   "metadata": {},
   "outputs": [],
   "source": [
    "def LISBottomUp(A):\n",
    "    n = len(A)\n",
    "    D = [1 for _ in range(n)]\n",
    "    prev = [-1 for _ in range(n)]\n",
    "    \n",
    "    def FindMax(ind):\n",
    "        nonlocal D\n",
    "        \n",
    "        for i in range(ind):\n",
    "            if A[i] >= A[ind] and D[i] >= D[ind]:\n",
    "                D[ind], prev[ind] = D[i] + 1, i\n",
    "    \n",
    "    for i in reversed(range(0, n)):\n",
    "        FindMax(i)\n",
    "       \n",
    "    k = max(D)\n",
    "    i = D.index(k)\n",
    "    \n",
    "    while i + 1:\n",
    "        print(i + 1, end=' ')\n",
    "        i = prev[i]    "
   ]
  },
  {
   "cell_type": "markdown",
   "metadata": {},
   "source": [
    " "
   ]
  },
  {
   "cell_type": "markdown",
   "metadata": {},
   "source": [
    " "
   ]
  },
  {
   "cell_type": "markdown",
   "metadata": {},
   "source": [
    "## Наибольшая подпоследовательность делителей"
   ]
  },
  {
   "cell_type": "code",
   "execution_count": 157,
   "metadata": {},
   "outputs": [
    {
     "name": "stdout",
     "output_type": "stream",
     "text": [
      "1 7 8 4 7 8 1 9 5 1\n",
      "3\n"
     ]
    }
   ],
   "source": [
    "def LISBottomUp(A):\n",
    "    n = len(A)\n",
    "    A_seq = [1 for _ in range(n)]\n",
    "    \n",
    "    def FindMax(ind):\n",
    "        nonlocal A_seq\n",
    "        \n",
    "        for i in range(ind):\n",
    "            if A[ind] % A[i] == 0  and A_seq[ind] <= A_seq[i]:\n",
    "                A_seq[ind] = A_seq[i] + 1\n",
    "    \n",
    "    for i in range(1, n):\n",
    "        FindMax(i)\n",
    "    \n",
    "    return max(A_seq)\n",
    "    \n",
    "\n",
    "\n",
    "\n",
    "array = np.random.randint(1, 10, 10).tolist()\n",
    "print(*array)\n",
    "print(LISBottomUp(array))"
   ]
  },
  {
   "cell_type": "markdown",
   "metadata": {},
   "source": [
    " "
   ]
  },
  {
   "cell_type": "markdown",
   "metadata": {},
   "source": [
    " "
   ]
  },
  {
   "cell_type": "markdown",
   "metadata": {},
   "source": [
    "## Наибольшая невозрастающая подпоследовательность"
   ]
  },
  {
   "cell_type": "code",
   "execution_count": 165,
   "metadata": {},
   "outputs": [],
   "source": [
    "def BinarySearch(A, x, n2):\n",
    "    n1 = 1\n",
    "        \n",
    "    while n1 < n2:\n",
    "        m = (n1 + n2) // 2\n",
    "        mid_point = A[m - 1]\n",
    "        if mid_point >= x:\n",
    "            n1 = m + 1\n",
    "        else:\n",
    "            n2 = m - 1\n",
    "         \n",
    "    if n1 == n2:\n",
    "        mid_point = A[n1 - 1]\n",
    "        if mid_point >= x:\n",
    "            return n1\n",
    "        else:\n",
    "            return n1 - 1\n",
    "    else:\n",
    "        return n2"
   ]
  },
  {
   "cell_type": "code",
   "execution_count": 232,
   "metadata": {},
   "outputs": [
    {
     "name": "stdout",
     "output_type": "stream",
     "text": [
      "9 9 6 5 5 4 4 4 3 1\n",
      "10\n",
      "1 2 3 4 5 6 7 8 9 10\n"
     ]
    }
   ],
   "source": [
    "def LNIS_Strange(A, n):\n",
    "    \n",
    "    if n == 1:\n",
    "        print(1)\n",
    "        return [1]\n",
    "    elif n == 2:\n",
    "        if A[0] >= A[1]:\n",
    "            print(2)\n",
    "            return [1, 2]\n",
    "        else:\n",
    "            print(1)\n",
    "            return [1]\n",
    "    \n",
    "    \n",
    "    D = np.array([- np.inf for i in range(n + 1)])\n",
    "    D[0] = np.inf\n",
    "    best_ind = np.array([-1 for i in range(n + 1)])\n",
    "    par_ind = np.array([-1 for i in range(n)])\n",
    "    \n",
    "    for i in range(0, n):\n",
    "        j = BinarySearch(D, A[i], n)\n",
    "        if D[j - 1] >= A[i] >= D[j]:\n",
    "            D[j], best_ind[j], par_ind[i] = A[i], i, best_ind[j - 1]\n",
    "           \n",
    "    D = np.hstack([D, [-1]])\n",
    "    k = BinarySearch(D, -1, n + 1) - 1\n",
    "    print(k)\n",
    "    res = np.array([0 for i in range(k)])\n",
    "    i = best_ind[k]\n",
    "    j = 0\n",
    "    \n",
    "    while i >= 0:\n",
    "        res[j] = i + 1\n",
    "        i = par_ind[i]\n",
    "        j += 1\n",
    "    \n",
    "    return reversed(res)\n",
    "\n",
    "\n",
    "n = 10\n",
    "array = np.random.randint(1, 10, n).tolist()\n",
    "array = sorted(array, reverse=True)\n",
    "#array = [1 for _ in range(n)]\n",
    "print(*array)\n",
    "print(*LNIS_Strange(array, n))"
   ]
  },
  {
   "cell_type": "markdown",
   "metadata": {},
   "source": [
    " "
   ]
  },
  {
   "cell_type": "markdown",
   "metadata": {},
   "source": [
    " "
   ]
  },
  {
   "cell_type": "markdown",
   "metadata": {},
   "source": [
    "## Расстояние редактирования"
   ]
  },
  {
   "cell_type": "code",
   "execution_count": 335,
   "metadata": {},
   "outputs": [
    {
     "name": "stdout",
     "output_type": "stream",
     "text": [
      "3\n",
      "3\n",
      "3\n"
     ]
    }
   ],
   "source": [
    "import numpy as np\n",
    "\n",
    "class EditDist():\n",
    "    \n",
    "    def __init__(self, A, B):\n",
    "        self.A, self.n = A, len(A)\n",
    "        self.B, self.m = B, len(B)            \n",
    "        \n",
    "    \n",
    "    def Diff(self, x, y):\n",
    "        return 0 if x == y else 1\n",
    "        \n",
    "    \n",
    "    def EditDistTD(self, i, j):\n",
    "        '''\n",
    "        Рекурсивный метод\n",
    "        '''\n",
    "        if i == 0:\n",
    "            self.D[i, j] = j\n",
    "        elif j == 0:\n",
    "            self.D[i, j] = i\n",
    "        else:\n",
    "            insert = self.EditDistTD(i, j - 1) + 1\n",
    "            delete = self.EditDistTD(i - 1, j) + 1\n",
    "            sub = self.EditDistTD(i - 1, j - 1) + self.Diff(self.A[i - 1], self.B[j - 1])\n",
    "            \n",
    "            self.D[i, j] = min(insert, delete, sub)\n",
    "        return self.D[i, j]\n",
    "    \n",
    "    \n",
    "    def EditDistBU(self):\n",
    "        '''\n",
    "        Итеративный метод\n",
    "        '''\n",
    "        for i in range(self.n + 1):\n",
    "            self.D[i, 0] = i\n",
    "        for j in range(self.m + 1):\n",
    "            self.D[0, j] = j\n",
    "        for i in range(1, self.n + 1):\n",
    "            for j in range(1, self.m + 1):\n",
    "                c = self.Diff(self.A[i - 1], self.B[j - 1])\n",
    "                self.D[i, j] = min(self.D[i - 1, j] + 1, \n",
    "                                   self.D[i, j - 1] + 1, \n",
    "                                   self.D[i - 1, j - 1] + c)\n",
    "                \n",
    "    \n",
    "    def Hirschberg(self):\n",
    "        '''\n",
    "        Алгоритм Хиршберга\n",
    "        '''\n",
    "        prev = np.array([i for i in range(self.m + 1)])\n",
    "        curr = np.zeros(self.m + 1)\n",
    "        \n",
    "        for i in range(1, self.n + 1):\n",
    "            curr[0] = i\n",
    "            for j in range(1, self.m + 1):\n",
    "                curr[j] = min(curr[j - 1] + 1, \n",
    "                              prev[j] + 1, \n",
    "                              prev[j - 1] + self.Diff(self.A[i - 1], self.B[j - 1]))\n",
    "            prev = curr.copy()\n",
    "            \n",
    "        return int(curr[-1])\n",
    "    \n",
    "        \n",
    "    def Main(self, method='R'):\n",
    "        if method == 'R':\n",
    "            self.D = np.full((self.n + 1, self.m + 1), np.inf)\n",
    "            self.EditDistTD(self.n, self.m)\n",
    "        elif method == 'I':\n",
    "            self.D = np.full((self.n + 1, self.m + 1), np.inf)\n",
    "            self.EditDistBU()\n",
    "        else:\n",
    "            return self.Hirschberg()\n",
    "            \n",
    "        return int(self.D[self.n, self.m])\n",
    "\n",
    "A = 'abcvfgq'\n",
    "B = 'bcefgbq'\n",
    "ed = EditDist(A, B)\n",
    "print(ed.Main(method='R'))\n",
    "print(ed.Main(method='I'))\n",
    "print(ed.Main(method='H'))"
   ]
  },
  {
   "cell_type": "markdown",
   "metadata": {},
   "source": [
    " "
   ]
  },
  {
   "cell_type": "markdown",
   "metadata": {},
   "source": [
    " "
   ]
  },
  {
   "cell_type": "markdown",
   "metadata": {},
   "source": [
    "## Рюкзак"
   ]
  },
  {
   "cell_type": "code",
   "execution_count": 91,
   "metadata": {},
   "outputs": [
    {
     "name": "stdout",
     "output_type": "stream",
     "text": [
      "10\n",
      "9\n",
      "10\n"
     ]
    }
   ],
   "source": [
    "import numpy as np\n",
    "\n",
    "class Backpack(list):\n",
    "    \n",
    "    def __init__(self, W, w, c):\n",
    "        self.W = W\n",
    "        self.C = 0\n",
    "        self.w = np.array([-1] + w)\n",
    "        self.c = np.array([-1] + c)\n",
    "        self.n = len(self.w)\n",
    "        \n",
    "        \n",
    "    def WithRepsBU(self):\n",
    "        '''\n",
    "        С возвратом предмета\n",
    "        '''\n",
    "        D = np.zeros(self.W + 1)\n",
    "        \n",
    "        for w in range(1, self.W + 1):\n",
    "            for i in range(1, self.n):\n",
    "                if w >= self.w[i]:\n",
    "                    D[w] = max(D[w], D[w - self.w[i]] + self.c[i])\n",
    "                    \n",
    "        return int(D[self.W])\n",
    "        \n",
    "        \n",
    "    def WithoutRepsBU(self):\n",
    "        '''\n",
    "        Без возврата предмета\n",
    "        '''\n",
    "        D = np.zeros((self.W + 1, self.n))\n",
    "        \n",
    "        for i in range(1, self.n):\n",
    "            for w in range(1, self.W + 1):\n",
    "                D[w, i] = D[w, i - 1]\n",
    "                if w >= self.w[i]:\n",
    "                    D[w, i] = max(D[w, i], D[w - self.w[i], i - 1] + self.c[i])\n",
    "        \n",
    "        return int(D[self.W, self.n - 1])\n",
    "    \n",
    "    \n",
    "    def WithRepsTD(self, w, H):\n",
    "        if w not in H:\n",
    "            v = 0\n",
    "            for i in range(1, self.n):\n",
    "                if w >= self.w[i]:\n",
    "                    v = max(v, self.WithRepsTD(w - self.w[i], H) + self.c[i])\n",
    "            H[w] = v\n",
    "        \n",
    "        return H[w]\n",
    "        \n",
    "    \n",
    "    def Main(self, method='W'):\n",
    "        if method == 'WBU':\n",
    "            return self.WithRepsBU()\n",
    "        elif method == 'WOBU':\n",
    "            return self.WithoutRepsBU()\n",
    "        elif method == 'WTD':\n",
    "            return self.WithRepsTD(self.W, {0: 0})\n",
    "        else:\n",
    "            raise AttributeError('method')\n",
    "        \n",
    "        \n",
    "        \n",
    "#backpack = Backpack(10, [6, 3, 4, 2], [30, 14, 16, 9])\n",
    "backpack = Backpack(10, [1, 4, 8], [1, 4, 8])\n",
    "print(backpack.Main('WBU'))\n",
    "print(backpack.Main('WOBU'))\n",
    "print(backpack.Main('WTD'))"
   ]
  },
  {
   "cell_type": "markdown",
   "metadata": {},
   "source": [
    " "
   ]
  },
  {
   "cell_type": "markdown",
   "metadata": {},
   "source": [
    " "
   ]
  },
  {
   "cell_type": "markdown",
   "metadata": {},
   "source": [
    "## Лестница"
   ]
  },
  {
   "cell_type": "code",
   "execution_count": 211,
   "metadata": {},
   "outputs": [
    {
     "data": {
      "text/plain": [
       "3"
      ]
     },
     "execution_count": 211,
     "metadata": {},
     "output_type": "execute_result"
    }
   ],
   "source": [
    "import numpy as np\n",
    "\n",
    "def Stairs(A, n):\n",
    "    x1 = A[0]\n",
    "    x2 = max(A[1], A[0] + A[1])\n",
    "    \n",
    "    for i in range(2, n):\n",
    "        x2, x1 = max(x2, x1) + A[i], x2\n",
    "            \n",
    "    return x2\n",
    "\n",
    "\n",
    "n = 5\n",
    "A = [-1, 2, 1, 4, 5]\n",
    "n = 3\n",
    "A = [-1, 2, 1]\n",
    "Stairs(A, n)"
   ]
  },
  {
   "cell_type": "markdown",
   "metadata": {},
   "source": [
    " "
   ]
  },
  {
   "cell_type": "markdown",
   "metadata": {},
   "source": [
    " "
   ]
  },
  {
   "cell_type": "markdown",
   "metadata": {},
   "source": [
    "## Сломаный калькулятор"
   ]
  },
  {
   "cell_type": "code",
   "execution_count": 223,
   "metadata": {},
   "outputs": [
    {
     "name": "stdout",
     "output_type": "stream",
     "text": [
      "14\n",
      "1 3 9 10 11 22 66 198 594 1782 5346 16038 16039 32078 96234"
     ]
    }
   ],
   "source": [
    "import numpy as np\n",
    "\n",
    "class BrokenCalculator():\n",
    "    def __init__(self, n):\n",
    "        self.n = n\n",
    "    \n",
    "    \n",
    "    def BU(self):\n",
    "        D = np.full(self.n, np.inf)\n",
    "        parents = np.full(self.n, -1)\n",
    "        D[0] = 0\n",
    "        \n",
    "        for x in range(1, self.n):\n",
    "            var_lst = 2 * x, 3 * x, x + 1\n",
    "            for i in var_lst:\n",
    "                if i <= n and D[x - 1] + 1 < D[i - 1]:\n",
    "                    D[i - 1], parents[i - 1] = D[x - 1] + 1, x\n",
    "            \n",
    "        k = int(D[-1])\n",
    "        print(k)\n",
    "        \n",
    "        i, j = parents[-1], k - 1\n",
    "        rev_parents = [0 for _ in range(k)]\n",
    "        \n",
    "        while i > 0:\n",
    "            rev_parents[j] = i\n",
    "            i = parents[i - 1]\n",
    "            j -= 1\n",
    "            \n",
    "        print(*rev_parents, end=' ')\n",
    "        print(n, end='')\n",
    "            \n",
    "    \n",
    "    def Main(self):\n",
    "        self.BU()\n",
    "\n",
    "\n",
    "\n",
    "n = 5\n",
    "n = 96234\n",
    "b = BrokenCalculator(n)\n",
    "b.Main()"
   ]
  },
  {
   "cell_type": "markdown",
   "metadata": {},
   "source": [
    " "
   ]
  },
  {
   "cell_type": "markdown",
   "metadata": {},
   "source": [
    " "
   ]
  },
  {
   "cell_type": "markdown",
   "metadata": {},
   "source": [
    " "
   ]
  }
 ],
 "metadata": {
  "kernelspec": {
   "display_name": "Python 3",
   "language": "python",
   "name": "python3"
  },
  "language_info": {
   "codemirror_mode": {
    "name": "ipython",
    "version": 3
   },
   "file_extension": ".py",
   "mimetype": "text/x-python",
   "name": "python",
   "nbconvert_exporter": "python",
   "pygments_lexer": "ipython3",
   "version": "3.7.6"
  }
 },
 "nbformat": 4,
 "nbformat_minor": 4
}
