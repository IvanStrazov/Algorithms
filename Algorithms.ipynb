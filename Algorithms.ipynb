{
 "cells": [
  {
   "cell_type": "markdown",
   "metadata": {},
   "source": [
    "# Алгоритмы"
   ]
  },
  {
   "cell_type": "markdown",
   "metadata": {},
   "source": [
    " "
   ]
  },
  {
   "cell_type": "markdown",
   "metadata": {},
   "source": [
    " "
   ]
  },
  {
   "cell_type": "markdown",
   "metadata": {},
   "source": [
    "# Бинарный поиск"
   ]
  },
  {
   "cell_type": "code",
   "execution_count": 9,
   "metadata": {},
   "outputs": [
    {
     "data": {
      "text/plain": [
       "array([ 2,  3,  5, 19, 35, 36, 46, 56, 56, 63, 70, 71, 75, 78, 79, 81, 84,\n",
       "       85, 90, 96])"
      ]
     },
     "execution_count": 9,
     "metadata": {},
     "output_type": "execute_result"
    }
   ],
   "source": [
    "import numpy as np\n",
    "array = np.random.randint(1, 100, 20)\n",
    "array.sort()\n",
    "array"
   ]
  },
  {
   "cell_type": "code",
   "execution_count": 21,
   "metadata": {},
   "outputs": [],
   "source": [
    "def binary_search(array, x):\n",
    "    n1, n2 = 0, len(array)\n",
    "    \n",
    "    while n1 < n2:\n",
    "        mid = (n1 + n2) // 2\n",
    "        mid_point = array[mid]\n",
    "        \n",
    "        if x == mid_point:\n",
    "            return mid\n",
    "        elif x > mid_point:\n",
    "            n1 = mid + 1\n",
    "        else:\n",
    "            n2 = mid - 1\n",
    "        \n",
    "    return None"
   ]
  },
  {
   "cell_type": "code",
   "execution_count": 20,
   "metadata": {},
   "outputs": [
    {
     "data": {
      "text/plain": [
       "2"
      ]
     },
     "execution_count": 20,
     "metadata": {},
     "output_type": "execute_result"
    }
   ],
   "source": [
    "binary_search(array, 16)"
   ]
  },
  {
   "cell_type": "markdown",
   "metadata": {},
   "source": [
    " "
   ]
  },
  {
   "cell_type": "markdown",
   "metadata": {},
   "source": [
    " "
   ]
  },
  {
   "cell_type": "markdown",
   "metadata": {},
   "source": [
    "# Число Фибоначчи"
   ]
  },
  {
   "cell_type": "markdown",
   "metadata": {},
   "source": [
    "#### Простой алгоритм"
   ]
  },
  {
   "cell_type": "code",
   "execution_count": 22,
   "metadata": {},
   "outputs": [
    {
     "data": {
      "text/plain": [
       "55"
      ]
     },
     "execution_count": 22,
     "metadata": {},
     "output_type": "execute_result"
    }
   ],
   "source": [
    "def fib(n):\n",
    "    if n in (0, 1):\n",
    "        return n\n",
    "    \n",
    "    x1, x2 = 0, 1\n",
    "    for i in range(n - 1):\n",
    "        x1, x2 = x2, x1 + x2\n",
    "    \n",
    "    return x2\n",
    "    \n",
    "fib(10)"
   ]
  },
  {
   "cell_type": "markdown",
   "metadata": {},
   "source": [
    "#### Рекурсивный алгоритм"
   ]
  },
  {
   "cell_type": "code",
   "execution_count": 14,
   "metadata": {},
   "outputs": [
    {
     "data": {
      "text/plain": [
       "55"
      ]
     },
     "execution_count": 14,
     "metadata": {},
     "output_type": "execute_result"
    }
   ],
   "source": [
    "def fib(n):\n",
    "    assert n >= 0\n",
    "    return n if n <= 1 else fib(n-1) + fib(n-2)\n",
    "    \n",
    "fib(10)"
   ]
  },
  {
   "cell_type": "markdown",
   "metadata": {},
   "source": [
    "#### Рекурсивный алгоритм с кэшем"
   ]
  },
  {
   "cell_type": "code",
   "execution_count": 23,
   "metadata": {},
   "outputs": [
    {
     "data": {
      "text/plain": [
       "55"
      ]
     },
     "execution_count": 23,
     "metadata": {},
     "output_type": "execute_result"
    }
   ],
   "source": [
    "def memo(f):\n",
    "    cache = {}\n",
    "    \n",
    "    def inner(n):\n",
    "        if n not in cache:\n",
    "            cache[n] = f(n)\n",
    "        return cache[n]\n",
    "    \n",
    "    return inner\n",
    "\n",
    "new_fib = memo(fib)\n",
    "new_fib(10)"
   ]
  },
  {
   "cell_type": "markdown",
   "metadata": {},
   "source": [
    "#### Быстрый алгоритм\n",
    "#### $F_n = \\frac{1}{\\sqrt{5}} ((\\frac{1+\\sqrt{5}}{2})^n - (\\frac{1-\\sqrt{5}}{2})^n)$"
   ]
  },
  {
   "cell_type": "code",
   "execution_count": 46,
   "metadata": {},
   "outputs": [
    {
     "data": {
      "text/plain": [
       "55"
      ]
     },
     "execution_count": 46,
     "metadata": {},
     "output_type": "execute_result"
    }
   ],
   "source": [
    "def fib(n):\n",
    "    return int((((1 + np.sqrt(5)) / 2) ** n - ((1 - np.sqrt(5)) / 2) ** n) / np.sqrt(5))\n",
    "\n",
    "fib(10)"
   ]
  },
  {
   "cell_type": "markdown",
   "metadata": {},
   "source": [
    "#### Остаток от деления n-го числа Фибоначчи на m."
   ]
  },
  {
   "cell_type": "code",
   "execution_count": 67,
   "metadata": {},
   "outputs": [
    {
     "data": {
      "text/plain": [
       "0"
      ]
     },
     "execution_count": 67,
     "metadata": {},
     "output_type": "execute_result"
    }
   ],
   "source": [
    "def fib_mod(n, m):\n",
    "    if n in (0, 1):\n",
    "        return n\n",
    "    \n",
    "    x1, x2 = 0, 1\n",
    "    period = False\n",
    "    for i in range(n - 1):\n",
    "        x1, x2 = x2, (x1 + x2) % m\n",
    "        \n",
    "        if x1 == 0 and x2 == 1:\n",
    "            period = i + 1\n",
    "            \n",
    "        if period:\n",
    "            x1, x2 = 0, 1\n",
    "            for i in range(n % period):\n",
    "                x1, x2 = x2, (x1 + x2) % m\n",
    "            return x1\n",
    "    \n",
    "    return x2\n",
    "    \n",
    "fib_mod(100, 5)"
   ]
  },
  {
   "cell_type": "markdown",
   "metadata": {},
   "source": [
    " "
   ]
  },
  {
   "cell_type": "markdown",
   "metadata": {},
   "source": [
    " "
   ]
  },
  {
   "cell_type": "markdown",
   "metadata": {},
   "source": [
    "# Наибольший общий делитель"
   ]
  },
  {
   "cell_type": "markdown",
   "metadata": {},
   "source": [
    "#### Простой алгоритм\n",
    "\n",
    "Сложность: $O(n)$"
   ]
  },
  {
   "cell_type": "code",
   "execution_count": 72,
   "metadata": {},
   "outputs": [
    {
     "data": {
      "text/plain": [
       "50"
      ]
     },
     "execution_count": 72,
     "metadata": {},
     "output_type": "execute_result"
    }
   ],
   "source": [
    "def gcd(a, b):\n",
    "    d = 1\n",
    "    for i in range(2, min([a, b]) + 1):\n",
    "        if a % i == 0 and b % i == 0:\n",
    "            d = i\n",
    "    return d\n",
    "\n",
    "gcd(150, 200)"
   ]
  },
  {
   "cell_type": "markdown",
   "metadata": {},
   "source": [
    "#### Алгоритм Евклида\n",
    "\n",
    "Сложность: $O(log_2n)$"
   ]
  },
  {
   "cell_type": "code",
   "execution_count": 25,
   "metadata": {},
   "outputs": [
    {
     "data": {
      "text/plain": [
       "50"
      ]
     },
     "execution_count": 25,
     "metadata": {},
     "output_type": "execute_result"
    }
   ],
   "source": [
    "def gcd(a, b):\n",
    "    assert a >= 0 and b >= 0\n",
    "    \n",
    "    if a == 0 or b == 0:\n",
    "        return max(a, b)\n",
    "    return gcd(b % a, a)\n",
    "    \n",
    "gcd(150, 200)"
   ]
  },
  {
   "cell_type": "markdown",
   "metadata": {},
   "source": [
    " "
   ]
  },
  {
   "cell_type": "markdown",
   "metadata": {},
   "source": [
    " "
   ]
  },
  {
   "cell_type": "markdown",
   "metadata": {},
   "source": [
    " "
   ]
  },
  {
   "cell_type": "markdown",
   "metadata": {},
   "source": [
    " "
   ]
  },
  {
   "cell_type": "markdown",
   "metadata": {},
   "source": [
    " "
   ]
  },
  {
   "cell_type": "markdown",
   "metadata": {},
   "source": [
    "# Жадные алгоритмы"
   ]
  },
  {
   "cell_type": "markdown",
   "metadata": {},
   "source": [
    "#### Покрыть отрезки точками"
   ]
  },
  {
   "cell_type": "code",
   "execution_count": 105,
   "metadata": {},
   "outputs": [
    {
     "name": "stdin",
     "output_type": "stream",
     "text": [
      " 3\n",
      " 1 3\n",
      " 2 5\n",
      " 3 6\n"
     ]
    },
    {
     "name": "stdout",
     "output_type": "stream",
     "text": [
      "1\n",
      "3\n"
     ]
    }
   ],
   "source": [
    "def points_for_cuts():\n",
    "    cuts = list()\n",
    "    \n",
    "    for i in range(int(input())):\n",
    "        cuts.append(list(map(int, input().split())))\n",
    "    \n",
    "    cuts.sort(key=lambda x: x[1])\n",
    "    \n",
    "    m = 0\n",
    "    points = list()\n",
    "    \n",
    "    while cuts:\n",
    "        m += 1\n",
    "        point = cuts[0][1]\n",
    "        points.append(point)\n",
    "        cuts = list(filter(lambda x: x[0] > point, cuts))\n",
    "    \n",
    "    print(m)\n",
    "    print(*points)\n",
    "    \n",
    "    \n",
    "points_for_cuts()"
   ]
  },
  {
   "cell_type": "markdown",
   "metadata": {},
   "source": [
    "#### Непрерывный рюкзак"
   ]
  },
  {
   "cell_type": "code",
   "execution_count": 83,
   "metadata": {},
   "outputs": [
    {
     "data": {
      "text/plain": [
       "180.0"
      ]
     },
     "execution_count": 83,
     "metadata": {},
     "output_type": "execute_result"
    }
   ],
   "source": [
    "def continuous_backpack():\n",
    "    #n, W = map(int, input().split())\n",
    "    #c_list, w_list, kpd_list = list(), list(), list()\n",
    "    W = 50\n",
    "    c_list = [60, 100, 120]\n",
    "    w_list = [20, 50, 30]\n",
    "    kpd_list = [[0, 3], [1, 2], [2, 4]]\n",
    "    \n",
    "\n",
    "    #for i in range(n):\n",
    "    #    c, w = map(int, input().split())\n",
    "    #    c_list.append(c)\n",
    "    #    w_list.append(w)\n",
    "    #    kpd_list.append([i, c / w])\n",
    "    \n",
    "    kpd_list = sorted(kpd_list, key=lambda x: x[1], reverse=True)\n",
    "    C = 0\n",
    "    \n",
    "    for i in kpd_list:\n",
    "        if W > w_list[i[0]]:\n",
    "            C += c_list[i[0]]\n",
    "            W -= w_list[i[0]]\n",
    "        else:\n",
    "            C += c_list[i[0]] * W / w_list[i[0]]\n",
    "            break\n",
    "\n",
    "    return C\n",
    "\n",
    "continuous_backpack()"
   ]
  },
  {
   "cell_type": "markdown",
   "metadata": {},
   "source": [
    "#### Различные слагаемые"
   ]
  },
  {
   "cell_type": "code",
   "execution_count": 51,
   "metadata": {},
   "outputs": [
    {
     "name": "stdin",
     "output_type": "stream",
     "text": [
      " 60\n"
     ]
    },
    {
     "name": "stdout",
     "output_type": "stream",
     "text": [
      "10\n",
      "1 2 3 4 5 6 7 8 9 15\n"
     ]
    }
   ],
   "source": [
    "n = int(input())\n",
    "\n",
    "def k_sum(n):\n",
    "    '''\n",
    "    По данному числу n находит максимальное число k,\n",
    "    для которого n можно представить как сумму k различных натуральных слагаемых. \n",
    "    Выводит в первой строке число k, во второй — k слагаемых.\n",
    "    '''\n",
    "    d = lambda x: (9 + 8 * n - 8 * x) ** (1 / 2)\n",
    "\n",
    "    x = 1\n",
    "    while d(x) % 2 != 1:\n",
    "        x += 1\n",
    "    k = int((-3 + d(x)) / 2 + 1)\n",
    "    print(k)\n",
    "    print(*[i for i in range(1, k)], k + x - 1)\n",
    "            \n",
    "            \n",
    "k_sum(n)"
   ]
  },
  {
   "cell_type": "markdown",
   "metadata": {},
   "source": [
    " "
   ]
  },
  {
   "cell_type": "markdown",
   "metadata": {},
   "source": [
    " "
   ]
  },
  {
   "cell_type": "markdown",
   "metadata": {},
   "source": [
    "## Кодирование Хаффмана"
   ]
  },
  {
   "cell_type": "markdown",
   "metadata": {},
   "source": [
    "#### Очередь с приоритетом на основе массива"
   ]
  },
  {
   "cell_type": "code",
   "execution_count": 41,
   "metadata": {},
   "outputs": [],
   "source": [
    "class Turn(list):\n",
    "    def __init__(self, array):\n",
    "        self.array = array\n",
    "        \n",
    "    def insert(self, x, priority):\n",
    "        self.array.append([x, priority])\n",
    "        \n",
    "    def extract_min(self):\n",
    "        min_point = min(self.array, key=lambda x: x[1])\n",
    "        self.array.remove(min_point)\n",
    "        return min_point"
   ]
  },
  {
   "cell_type": "markdown",
   "metadata": {},
   "source": [
    "#### Собственный Counter (т.к. никаких импортов)"
   ]
  },
  {
   "cell_type": "code",
   "execution_count": 86,
   "metadata": {},
   "outputs": [],
   "source": [
    "class Counter():\n",
    "    def __init__(self, x):\n",
    "        self.dct = dict()\n",
    "        \n",
    "        for i in x:\n",
    "            if i in self.dct:\n",
    "                self.dct[i] += 1\n",
    "            else:\n",
    "                self.dct[i] = 1\n",
    "        \n",
    "    def result(self):\n",
    "        return self.dct"
   ]
  },
  {
   "cell_type": "markdown",
   "metadata": {},
   "source": [
    "#### Бинарное дерево, заполняющее кодировки символов"
   ]
  },
  {
   "cell_type": "code",
   "execution_count": 87,
   "metadata": {},
   "outputs": [],
   "source": [
    "class Tree():\n",
    "    def __init__(self, string):\n",
    "        self.point_names = dict()\n",
    "        \n",
    "        for i in string:\n",
    "            if i not in self.point_names:\n",
    "                self.point_names[i] = ''\n",
    "                \n",
    "    def add_lit(self, point, lit):\n",
    "        self.point_names[point] = lit + self.point_names[point]"
   ]
  },
  {
   "cell_type": "markdown",
   "metadata": {},
   "source": [
    "#### Алгоритм Хаффмана"
   ]
  },
  {
   "cell_type": "code",
   "execution_count": 130,
   "metadata": {},
   "outputs": [
    {
     "name": "stdin",
     "output_type": "stream",
     "text": [
      " abacabad\n"
     ]
    },
    {
     "name": "stdout",
     "output_type": "stream",
     "text": [
      "4 14\n",
      "a: 0\n",
      "b: 10\n",
      "c: 110\n",
      "d: 111\n",
      "01001100100111"
     ]
    }
   ],
   "source": [
    "def huffman(string):\n",
    "    \n",
    "    # Преобразование строки в очередь с приоритетами\n",
    "    prior_turn = Turn(list(Counter(string).result().items()))\n",
    "    \n",
    "    # Создание дерева с пустыми именами\n",
    "    tree = Tree(string)\n",
    "    \n",
    "    # Задание переменной затрат памяти\n",
    "    term_memory = 0\n",
    "    \n",
    "    if len(prior_turn.array) == 1:\n",
    "        term_memory += len(string)\n",
    "        print(1, term_memory)\n",
    "        print(string[0], ': 0', sep='')\n",
    "        print('0' * term_memory)\n",
    "    else:\n",
    "        while len(prior_turn.array) > 1:\n",
    "            i, fi = prior_turn.extract_min()\n",
    "            j, fj = prior_turn.extract_min()\n",
    "            prior_turn.insert(i + j, fi + fj)\n",
    "            term_memory += fi + fj\n",
    "\n",
    "            for _ in i:\n",
    "                tree.add_lit(_, '0')\n",
    "            for _ in j:\n",
    "                tree.add_lit(_, '1')\n",
    "        \n",
    "        print(len(tree.point_names), term_memory)\n",
    "        for i in tree.point_names.items():\n",
    "            print(i[0], ': ', i[1], sep='')\n",
    "\n",
    "        for i in string:\n",
    "            print(tree.point_names[i], end='')\n",
    "    \n",
    "\n",
    "string = input()\n",
    "huffman(string)"
   ]
  },
  {
   "cell_type": "markdown",
   "metadata": {},
   "source": [
    " "
   ]
  },
  {
   "cell_type": "markdown",
   "metadata": {},
   "source": [
    " "
   ]
  },
  {
   "cell_type": "markdown",
   "metadata": {},
   "source": [
    "## Декодирование Хаффмана"
   ]
  },
  {
   "cell_type": "code",
   "execution_count": 128,
   "metadata": {},
   "outputs": [
    {
     "name": "stdin",
     "output_type": "stream",
     "text": [
      " 4 14\n",
      " a: 0\n",
      " b: 10\n",
      " c: 110\n",
      " d: 111\n",
      " 01001100100111\n"
     ]
    },
    {
     "name": "stdout",
     "output_type": "stream",
     "text": [
      "abacabad"
     ]
    }
   ],
   "source": [
    "def huffman_decode(point_names, string):\n",
    "    \n",
    "    # Создание пустого бинарного дерева\n",
    "    tree = dict()\n",
    "    \n",
    "    # Заполнение дерева через проход по веткам и листам\n",
    "    # и создание новых\n",
    "    for i in point_names:\n",
    "        term_tree = tree\n",
    "        l = len(i[1]) - 1\n",
    "        for ind, j in enumerate(i[1]):\n",
    "            if ind == l:\n",
    "                term_tree[j] = i[0]\n",
    "            elif j not in term_tree:\n",
    "                term_tree[j] = {}\n",
    "                term_tree = term_tree[j]\n",
    "            else:\n",
    "                term_tree = term_tree[j]\n",
    "\n",
    "\n",
    "    # Декодирование проходом по бинарному дереву\n",
    "    term_tree = tree.copy()\n",
    "    for i in string:\n",
    "        if type(term_tree[i]) == dict:\n",
    "            term_tree = term_tree[i]\n",
    "        else:\n",
    "            print(term_tree[i], end='')\n",
    "            term_tree = tree.copy()\n",
    "\n",
    "\n",
    "k, term_memory = map(int, input().split())\n",
    "\n",
    "point_names = list()\n",
    "for i in range(k):\n",
    "    point, name = input().split(': ')\n",
    "    point_names.append([point, name])\n",
    "    \n",
    "string = input()\n",
    "\n",
    "huffman_decode(point_names, string)"
   ]
  }
 ],
 "metadata": {
  "kernelspec": {
   "display_name": "Python 3",
   "language": "python",
   "name": "python3"
  },
  "language_info": {
   "codemirror_mode": {
    "name": "ipython",
    "version": 3
   },
   "file_extension": ".py",
   "mimetype": "text/x-python",
   "name": "python",
   "nbconvert_exporter": "python",
   "pygments_lexer": "ipython3",
   "version": "3.7.6"
  }
 },
 "nbformat": 4,
 "nbformat_minor": 4
}
