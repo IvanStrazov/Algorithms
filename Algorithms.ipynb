{
 "cells": [
  {
   "cell_type": "code",
   "execution_count": 1,
   "metadata": {},
   "outputs": [],
   "source": [
    "import numpy as np"
   ]
  },
  {
   "cell_type": "markdown",
   "metadata": {},
   "source": [
    "# Бинарный поиск"
   ]
  },
  {
   "cell_type": "code",
   "execution_count": 9,
   "metadata": {},
   "outputs": [
    {
     "data": {
      "text/plain": [
       "array([ 2,  3,  5, 19, 35, 36, 46, 56, 56, 63, 70, 71, 75, 78, 79, 81, 84,\n",
       "       85, 90, 96])"
      ]
     },
     "execution_count": 9,
     "metadata": {},
     "output_type": "execute_result"
    }
   ],
   "source": [
    "array = np.random.randint(1, 100, 20)\n",
    "array.sort()\n",
    "array"
   ]
  },
  {
   "cell_type": "code",
   "execution_count": 21,
   "metadata": {},
   "outputs": [],
   "source": [
    "def binary_search(array, x):\n",
    "    n1, n2 = 0, len(array)\n",
    "    \n",
    "    while n1 < n2:\n",
    "        mid = (n1 + n2) // 2\n",
    "        mid_point = array[mid]\n",
    "        \n",
    "        if x == mid_point:\n",
    "            return mid\n",
    "        elif x > mid_point:\n",
    "            n1 = mid + 1\n",
    "        else:\n",
    "            n2 = mid - 1\n",
    "        \n",
    "    return None"
   ]
  },
  {
   "cell_type": "code",
   "execution_count": 20,
   "metadata": {},
   "outputs": [
    {
     "data": {
      "text/plain": [
       "2"
      ]
     },
     "execution_count": 20,
     "metadata": {},
     "output_type": "execute_result"
    }
   ],
   "source": [
    "binary_search(array, 16)"
   ]
  },
  {
   "cell_type": "markdown",
   "metadata": {},
   "source": [
    " "
   ]
  },
  {
   "cell_type": "markdown",
   "metadata": {},
   "source": [
    " "
   ]
  },
  {
   "cell_type": "markdown",
   "metadata": {},
   "source": [
    "# Число Фибоначчи"
   ]
  },
  {
   "cell_type": "markdown",
   "metadata": {},
   "source": [
    "#### Простой алгоритм"
   ]
  },
  {
   "cell_type": "code",
   "execution_count": 48,
   "metadata": {},
   "outputs": [
    {
     "data": {
      "text/plain": [
       "55"
      ]
     },
     "execution_count": 48,
     "metadata": {},
     "output_type": "execute_result"
    }
   ],
   "source": [
    "def fib(n):\n",
    "    if n in (0, 1):\n",
    "        return n\n",
    "    \n",
    "    x1, x2 = 0, 1\n",
    "    for i in range(n - 1):\n",
    "        x1, x2 = x2, x1 + x2\n",
    "    \n",
    "    return x2\n",
    "    \n",
    "fib(10)"
   ]
  },
  {
   "cell_type": "markdown",
   "metadata": {},
   "source": [
    "#### Рекурсивный алгоритм"
   ]
  },
  {
   "cell_type": "code",
   "execution_count": 38,
   "metadata": {},
   "outputs": [
    {
     "data": {
      "text/plain": [
       "55"
      ]
     },
     "execution_count": 38,
     "metadata": {},
     "output_type": "execute_result"
    }
   ],
   "source": [
    "def fib(n):\n",
    "    if n in (0, 1):\n",
    "        return n\n",
    "    \n",
    "    return fib(n-1) + fib(n-2)\n",
    "    \n",
    "fib(10)"
   ]
  },
  {
   "cell_type": "markdown",
   "metadata": {},
   "source": [
    "#### Быстрый алгоритм\n",
    "#### $F_n = \\frac{1}{\\sqrt{5}} ((\\frac{1+\\sqrt{5}}{2})^n - (\\frac{1-\\sqrt{5}}{2})^n)$"
   ]
  },
  {
   "cell_type": "code",
   "execution_count": 46,
   "metadata": {},
   "outputs": [
    {
     "data": {
      "text/plain": [
       "55"
      ]
     },
     "execution_count": 46,
     "metadata": {},
     "output_type": "execute_result"
    }
   ],
   "source": [
    "def fib(n):\n",
    "    return int((((1 + np.sqrt(5)) / 2) ** n - ((1 - np.sqrt(5)) / 2) ** n) / np.sqrt(5))\n",
    "\n",
    "fib(10)"
   ]
  },
  {
   "cell_type": "markdown",
   "metadata": {},
   "source": [
    "#### Остаток от деления n-го числа Фибоначчи на m."
   ]
  },
  {
   "cell_type": "code",
   "execution_count": 67,
   "metadata": {},
   "outputs": [
    {
     "data": {
      "text/plain": [
       "0"
      ]
     },
     "execution_count": 67,
     "metadata": {},
     "output_type": "execute_result"
    }
   ],
   "source": [
    "def fib_mod(n, m):\n",
    "    if n in (0, 1):\n",
    "        return n\n",
    "    \n",
    "    x1, x2 = 0, 1\n",
    "    period = False\n",
    "    for i in range(n - 1):\n",
    "        x1, x2 = x2, (x1 + x2) % m\n",
    "        \n",
    "        if x1 == 0 and x2 == 1:\n",
    "            period = i + 1\n",
    "            \n",
    "        if period:\n",
    "            x1, x2 = 0, 1\n",
    "            for i in range(n % period):\n",
    "                x1, x2 = x2, (x1 + x2) % m\n",
    "            return x1\n",
    "    \n",
    "    return x2\n",
    "    \n",
    "fib_mod(100, 5)"
   ]
  },
  {
   "cell_type": "markdown",
   "metadata": {},
   "source": [
    " "
   ]
  },
  {
   "cell_type": "markdown",
   "metadata": {},
   "source": [
    " "
   ]
  },
  {
   "cell_type": "markdown",
   "metadata": {},
   "source": [
    "# Наибольший общий делитель"
   ]
  },
  {
   "cell_type": "markdown",
   "metadata": {},
   "source": [
    "#### Простой алгоритм"
   ]
  },
  {
   "cell_type": "code",
   "execution_count": 72,
   "metadata": {},
   "outputs": [
    {
     "data": {
      "text/plain": [
       "50"
      ]
     },
     "execution_count": 72,
     "metadata": {},
     "output_type": "execute_result"
    }
   ],
   "source": [
    "def gcd(a, b):\n",
    "    d = 1\n",
    "    for i in range(2, min([a, b]) + 1):\n",
    "        if a % i == 0 and b % i == 0:\n",
    "            d = i\n",
    "    return d\n",
    "\n",
    "gcd(150, 200)"
   ]
  },
  {
   "cell_type": "markdown",
   "metadata": {},
   "source": [
    "#### Алгоритм Евклида"
   ]
  },
  {
   "cell_type": "code",
   "execution_count": 73,
   "metadata": {},
   "outputs": [
    {
     "data": {
      "text/plain": [
       "50"
      ]
     },
     "execution_count": 73,
     "metadata": {},
     "output_type": "execute_result"
    }
   ],
   "source": [
    "def gcd(a, b):\n",
    "    if a == 0:\n",
    "        return b\n",
    "    elif b == 0:\n",
    "        return a\n",
    "    elif a >= b:\n",
    "        return gcd(a % b, b)\n",
    "    else:\n",
    "        return gcd(a, b % a)\n",
    "    \n",
    "gcd(150, 200)"
   ]
  }
 ],
 "metadata": {
  "kernelspec": {
   "display_name": "Python 3",
   "language": "python",
   "name": "python3"
  },
  "language_info": {
   "codemirror_mode": {
    "name": "ipython",
    "version": 3
   },
   "file_extension": ".py",
   "mimetype": "text/x-python",
   "name": "python",
   "nbconvert_exporter": "python",
   "pygments_lexer": "ipython3",
   "version": "3.7.6"
  }
 },
 "nbformat": 4,
 "nbformat_minor": 4
}
